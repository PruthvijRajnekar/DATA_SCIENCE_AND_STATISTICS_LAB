{
 "cells": [
  {
   "cell_type": "markdown",
   "id": "16d7653f-d03f-4f8f-9d08-c8227309db71",
   "metadata": {},
   "source": [
    "# Basics Of Data Frame"
   ]
  },
  {
   "cell_type": "code",
   "execution_count": 2,
   "id": "92002bed-e77c-4982-8301-3c6da0a23df2",
   "metadata": {},
   "outputs": [],
   "source": [
    "#Exp no.:3"
   ]
  },
  {
   "cell_type": "code",
   "execution_count": null,
   "id": "7e7ba226-35c6-433e-98f3-cc1bf4f21015",
   "metadata": {},
   "outputs": [],
   "source": [
    "#Aim : To study basics of data frame"
   ]
  },
  {
   "cell_type": "code",
   "execution_count": 1,
   "id": "86d33b52-491c-4fff-82c0-4a1e8a7f1562",
   "metadata": {},
   "outputs": [],
   "source": [
    "#Name:Pruthvij .P. Rajnekar\n",
    "#Roll no.:49\n",
    "#Section:3B\n",
    "#Subject:DSS\n",
    "#Date:07/08/2025"
   ]
  },
  {
   "cell_type": "markdown",
   "id": "814b8007-1e35-4591-8428-5405f886df6d",
   "metadata": {},
   "source": [
    "# Creating Series"
   ]
  },
  {
   "cell_type": "code",
   "execution_count": 1,
   "id": "e6cd6799-1947-463a-b11f-a547c9543139",
   "metadata": {},
   "outputs": [],
   "source": [
    "import pandas as pd"
   ]
  },
  {
   "cell_type": "code",
   "execution_count": 2,
   "id": "3ab054ea-5d27-49d7-bbe2-8c33d348542c",
   "metadata": {},
   "outputs": [],
   "source": [
    "Name=[\"Ashish\",\"Sagar\",\"Shrikant\",\"Lovely\",\"Saurabh\"]"
   ]
  },
  {
   "cell_type": "code",
   "execution_count": 3,
   "id": "61635587-50d2-4dca-8752-65810a762547",
   "metadata": {},
   "outputs": [
    {
     "data": {
      "text/plain": [
       "['Ashish', 'Sagar', 'Shrikant', 'Lovely', 'Saurabh']"
      ]
     },
     "execution_count": 3,
     "metadata": {},
     "output_type": "execute_result"
    }
   ],
   "source": [
    "Name"
   ]
  },
  {
   "cell_type": "code",
   "execution_count": 4,
   "id": "7a3b32a7-f716-4591-a04c-c18a06271b10",
   "metadata": {},
   "outputs": [],
   "source": [
    "Roll_list=pd.Series(Name,index=[1,2,3,4,5])"
   ]
  },
  {
   "cell_type": "code",
   "execution_count": 5,
   "id": "536f4ad0-0c2b-49ee-8036-11a6d3542b79",
   "metadata": {},
   "outputs": [
    {
     "name": "stdout",
     "output_type": "stream",
     "text": [
      "1      Ashish\n",
      "2       Sagar\n",
      "3    Shrikant\n",
      "4      Lovely\n",
      "5     Saurabh\n",
      "dtype: object\n"
     ]
    }
   ],
   "source": [
    "print(Roll_list)"
   ]
  },
  {
   "cell_type": "markdown",
   "id": "1872c6ad-94b7-46d7-ade7-7f5a3a1d2be2",
   "metadata": {},
   "source": [
    "# Creating Data Frame"
   ]
  },
  {
   "cell_type": "code",
   "execution_count": 6,
   "id": "84991874-3abb-4293-a249-7be67677e736",
   "metadata": {},
   "outputs": [],
   "source": [
    "import pandas as pd"
   ]
  },
  {
   "cell_type": "code",
   "execution_count": 7,
   "id": "459c9b9c-793b-44a1-82e9-f5728ba32327",
   "metadata": {},
   "outputs": [],
   "source": [
    "df=pd.DataFrame([[10,12,45,60],[54,70,26,90],[78,89,45,24]],columns=[\"CD\",\"DBMS\",\"DSS\",\"CAO\"])"
   ]
  },
  {
   "cell_type": "code",
   "execution_count": 8,
   "id": "f57a5bd1-0c23-4dd9-a8a6-301501be0e9a",
   "metadata": {},
   "outputs": [
    {
     "data": {
      "text/html": [
       "<div>\n",
       "<style scoped>\n",
       "    .dataframe tbody tr th:only-of-type {\n",
       "        vertical-align: middle;\n",
       "    }\n",
       "\n",
       "    .dataframe tbody tr th {\n",
       "        vertical-align: top;\n",
       "    }\n",
       "\n",
       "    .dataframe thead th {\n",
       "        text-align: right;\n",
       "    }\n",
       "</style>\n",
       "<table border=\"1\" class=\"dataframe\">\n",
       "  <thead>\n",
       "    <tr style=\"text-align: right;\">\n",
       "      <th></th>\n",
       "      <th>CD</th>\n",
       "      <th>DBMS</th>\n",
       "      <th>DSS</th>\n",
       "      <th>CAO</th>\n",
       "    </tr>\n",
       "  </thead>\n",
       "  <tbody>\n",
       "    <tr>\n",
       "      <th>0</th>\n",
       "      <td>10</td>\n",
       "      <td>12</td>\n",
       "      <td>45</td>\n",
       "      <td>60</td>\n",
       "    </tr>\n",
       "    <tr>\n",
       "      <th>1</th>\n",
       "      <td>54</td>\n",
       "      <td>70</td>\n",
       "      <td>26</td>\n",
       "      <td>90</td>\n",
       "    </tr>\n",
       "    <tr>\n",
       "      <th>2</th>\n",
       "      <td>78</td>\n",
       "      <td>89</td>\n",
       "      <td>45</td>\n",
       "      <td>24</td>\n",
       "    </tr>\n",
       "  </tbody>\n",
       "</table>\n",
       "</div>"
      ],
      "text/plain": [
       "   CD  DBMS  DSS  CAO\n",
       "0  10    12   45   60\n",
       "1  54    70   26   90\n",
       "2  78    89   45   24"
      ]
     },
     "execution_count": 8,
     "metadata": {},
     "output_type": "execute_result"
    }
   ],
   "source": [
    "df"
   ]
  },
  {
   "cell_type": "code",
   "execution_count": 9,
   "id": "a3d50815-91cf-4ec6-b2b8-f5ef7ab63ff6",
   "metadata": {},
   "outputs": [
    {
     "data": {
      "text/plain": [
       "(3, 4)"
      ]
     },
     "execution_count": 9,
     "metadata": {},
     "output_type": "execute_result"
    }
   ],
   "source": [
    "df.shape"
   ]
  },
  {
   "cell_type": "code",
   "execution_count": 10,
   "id": "58093919-2174-4dee-9bf7-03c2413be093",
   "metadata": {},
   "outputs": [
    {
     "data": {
      "text/plain": [
       "12"
      ]
     },
     "execution_count": 10,
     "metadata": {},
     "output_type": "execute_result"
    }
   ],
   "source": [
    "df.size"
   ]
  },
  {
   "cell_type": "code",
   "execution_count": 11,
   "id": "9d8d0d83-4c32-4427-a5d6-912a546da397",
   "metadata": {},
   "outputs": [
    {
     "data": {
      "text/plain": [
       "2"
      ]
     },
     "execution_count": 11,
     "metadata": {},
     "output_type": "execute_result"
    }
   ],
   "source": [
    "df.ndim"
   ]
  },
  {
   "cell_type": "markdown",
   "id": "78a9ceb2-b13a-40a5-be3e-ec0140431599",
   "metadata": {},
   "source": [
    "# Adding Record(Row) to the data Frame"
   ]
  },
  {
   "cell_type": "code",
   "execution_count": 12,
   "id": "85dd3a48-2937-488c-8479-d0cdc6fe4c62",
   "metadata": {},
   "outputs": [],
   "source": [
    "import pandas as pd"
   ]
  },
  {
   "cell_type": "code",
   "execution_count": 13,
   "id": "12ce0e82-8319-458b-8f77-16771368915e",
   "metadata": {},
   "outputs": [],
   "source": [
    "df2=pd.DataFrame([[10,12,45,60]],columns=[\"CD\",\"DBMS\",\"DSS\",\"CAO\"])"
   ]
  },
  {
   "cell_type": "code",
   "execution_count": 21,
   "id": "0025d3db-d293-4fdb-b7c2-4ae6e8cf4712",
   "metadata": {},
   "outputs": [],
   "source": [
    "df3 = pd.concat([df, df2], ignore_index=True)"
   ]
  },
  {
   "cell_type": "code",
   "execution_count": 22,
   "id": "0ae1e088-7532-4e8e-a9d1-7082250a6c29",
   "metadata": {},
   "outputs": [
    {
     "data": {
      "text/html": [
       "<div>\n",
       "<style scoped>\n",
       "    .dataframe tbody tr th:only-of-type {\n",
       "        vertical-align: middle;\n",
       "    }\n",
       "\n",
       "    .dataframe tbody tr th {\n",
       "        vertical-align: top;\n",
       "    }\n",
       "\n",
       "    .dataframe thead th {\n",
       "        text-align: right;\n",
       "    }\n",
       "</style>\n",
       "<table border=\"1\" class=\"dataframe\">\n",
       "  <thead>\n",
       "    <tr style=\"text-align: right;\">\n",
       "      <th></th>\n",
       "      <th>CD</th>\n",
       "      <th>DBMS</th>\n",
       "      <th>DSS</th>\n",
       "      <th>CAO</th>\n",
       "    </tr>\n",
       "  </thead>\n",
       "  <tbody>\n",
       "    <tr>\n",
       "      <th>0</th>\n",
       "      <td>10</td>\n",
       "      <td>12</td>\n",
       "      <td>45</td>\n",
       "      <td>60</td>\n",
       "    </tr>\n",
       "    <tr>\n",
       "      <th>1</th>\n",
       "      <td>54</td>\n",
       "      <td>70</td>\n",
       "      <td>26</td>\n",
       "      <td>90</td>\n",
       "    </tr>\n",
       "    <tr>\n",
       "      <th>2</th>\n",
       "      <td>78</td>\n",
       "      <td>89</td>\n",
       "      <td>45</td>\n",
       "      <td>24</td>\n",
       "    </tr>\n",
       "    <tr>\n",
       "      <th>3</th>\n",
       "      <td>10</td>\n",
       "      <td>12</td>\n",
       "      <td>45</td>\n",
       "      <td>60</td>\n",
       "    </tr>\n",
       "  </tbody>\n",
       "</table>\n",
       "</div>"
      ],
      "text/plain": [
       "   CD  DBMS  DSS  CAO\n",
       "0  10    12   45   60\n",
       "1  54    70   26   90\n",
       "2  78    89   45   24\n",
       "3  10    12   45   60"
      ]
     },
     "execution_count": 22,
     "metadata": {},
     "output_type": "execute_result"
    }
   ],
   "source": [
    "df3"
   ]
  },
  {
   "cell_type": "code",
   "execution_count": 26,
   "id": "27a9f6b8-4da2-4a6d-8818-26031675e76e",
   "metadata": {},
   "outputs": [
    {
     "data": {
      "text/plain": [
       "(4, 4)"
      ]
     },
     "execution_count": 26,
     "metadata": {},
     "output_type": "execute_result"
    }
   ],
   "source": [
    "df3.shape"
   ]
  },
  {
   "cell_type": "code",
   "execution_count": 27,
   "id": "86dfee86-f544-436f-b6ad-b2285735b994",
   "metadata": {},
   "outputs": [
    {
     "data": {
      "text/plain": [
       "16"
      ]
     },
     "execution_count": 27,
     "metadata": {},
     "output_type": "execute_result"
    }
   ],
   "source": [
    "df3.size"
   ]
  },
  {
   "cell_type": "code",
   "execution_count": 28,
   "id": "74087428-4327-466c-acf3-96bb6ca8f6a8",
   "metadata": {},
   "outputs": [
    {
     "data": {
      "text/plain": [
       "2"
      ]
     },
     "execution_count": 28,
     "metadata": {},
     "output_type": "execute_result"
    }
   ],
   "source": [
    "df3.ndim"
   ]
  },
  {
   "cell_type": "markdown",
   "id": "b0019e70-6c8c-435b-82e1-a9397402ff67",
   "metadata": {},
   "source": [
    "# Adding Attribute(Columns) name DM"
   ]
  },
  {
   "cell_type": "code",
   "execution_count": 29,
   "id": "20200002-6132-4081-9c06-16d92c553aba",
   "metadata": {},
   "outputs": [],
   "source": [
    "df3[\"DM\"]=[12,15,90,85]"
   ]
  },
  {
   "cell_type": "code",
   "execution_count": 30,
   "id": "e44f85d2-9111-4792-a817-0a8aa8aacc9c",
   "metadata": {},
   "outputs": [
    {
     "data": {
      "text/html": [
       "<div>\n",
       "<style scoped>\n",
       "    .dataframe tbody tr th:only-of-type {\n",
       "        vertical-align: middle;\n",
       "    }\n",
       "\n",
       "    .dataframe tbody tr th {\n",
       "        vertical-align: top;\n",
       "    }\n",
       "\n",
       "    .dataframe thead th {\n",
       "        text-align: right;\n",
       "    }\n",
       "</style>\n",
       "<table border=\"1\" class=\"dataframe\">\n",
       "  <thead>\n",
       "    <tr style=\"text-align: right;\">\n",
       "      <th></th>\n",
       "      <th>CD</th>\n",
       "      <th>DBMS</th>\n",
       "      <th>DSS</th>\n",
       "      <th>CAO</th>\n",
       "      <th>DM</th>\n",
       "    </tr>\n",
       "  </thead>\n",
       "  <tbody>\n",
       "    <tr>\n",
       "      <th>0</th>\n",
       "      <td>10</td>\n",
       "      <td>12</td>\n",
       "      <td>45</td>\n",
       "      <td>60</td>\n",
       "      <td>12</td>\n",
       "    </tr>\n",
       "    <tr>\n",
       "      <th>1</th>\n",
       "      <td>54</td>\n",
       "      <td>70</td>\n",
       "      <td>26</td>\n",
       "      <td>90</td>\n",
       "      <td>15</td>\n",
       "    </tr>\n",
       "    <tr>\n",
       "      <th>2</th>\n",
       "      <td>78</td>\n",
       "      <td>89</td>\n",
       "      <td>45</td>\n",
       "      <td>24</td>\n",
       "      <td>90</td>\n",
       "    </tr>\n",
       "    <tr>\n",
       "      <th>3</th>\n",
       "      <td>10</td>\n",
       "      <td>12</td>\n",
       "      <td>45</td>\n",
       "      <td>60</td>\n",
       "      <td>85</td>\n",
       "    </tr>\n",
       "  </tbody>\n",
       "</table>\n",
       "</div>"
      ],
      "text/plain": [
       "   CD  DBMS  DSS  CAO  DM\n",
       "0  10    12   45   60  12\n",
       "1  54    70   26   90  15\n",
       "2  78    89   45   24  90\n",
       "3  10    12   45   60  85"
      ]
     },
     "execution_count": 30,
     "metadata": {},
     "output_type": "execute_result"
    }
   ],
   "source": [
    "df3"
   ]
  },
  {
   "cell_type": "markdown",
   "id": "b8d06df8-c285-4254-9e09-4361f2970880",
   "metadata": {},
   "source": [
    "# Deleting Record from df3 dataframe"
   ]
  },
  {
   "cell_type": "code",
   "execution_count": 33,
   "id": "7c3d5283-f3c0-47a8-9992-d6595a4b1f2c",
   "metadata": {},
   "outputs": [],
   "source": [
    "df4=df3.drop(index=[1])"
   ]
  },
  {
   "cell_type": "code",
   "execution_count": 34,
   "id": "9c13b69b-2eec-4eeb-88ff-dea01b91a930",
   "metadata": {},
   "outputs": [
    {
     "data": {
      "text/html": [
       "<div>\n",
       "<style scoped>\n",
       "    .dataframe tbody tr th:only-of-type {\n",
       "        vertical-align: middle;\n",
       "    }\n",
       "\n",
       "    .dataframe tbody tr th {\n",
       "        vertical-align: top;\n",
       "    }\n",
       "\n",
       "    .dataframe thead th {\n",
       "        text-align: right;\n",
       "    }\n",
       "</style>\n",
       "<table border=\"1\" class=\"dataframe\">\n",
       "  <thead>\n",
       "    <tr style=\"text-align: right;\">\n",
       "      <th></th>\n",
       "      <th>CD</th>\n",
       "      <th>DBMS</th>\n",
       "      <th>DSS</th>\n",
       "      <th>CAO</th>\n",
       "      <th>DM</th>\n",
       "    </tr>\n",
       "  </thead>\n",
       "  <tbody>\n",
       "    <tr>\n",
       "      <th>0</th>\n",
       "      <td>10</td>\n",
       "      <td>12</td>\n",
       "      <td>45</td>\n",
       "      <td>60</td>\n",
       "      <td>12</td>\n",
       "    </tr>\n",
       "    <tr>\n",
       "      <th>2</th>\n",
       "      <td>78</td>\n",
       "      <td>89</td>\n",
       "      <td>45</td>\n",
       "      <td>24</td>\n",
       "      <td>90</td>\n",
       "    </tr>\n",
       "    <tr>\n",
       "      <th>3</th>\n",
       "      <td>10</td>\n",
       "      <td>12</td>\n",
       "      <td>45</td>\n",
       "      <td>60</td>\n",
       "      <td>85</td>\n",
       "    </tr>\n",
       "  </tbody>\n",
       "</table>\n",
       "</div>"
      ],
      "text/plain": [
       "   CD  DBMS  DSS  CAO  DM\n",
       "0  10    12   45   60  12\n",
       "2  78    89   45   24  90\n",
       "3  10    12   45   60  85"
      ]
     },
     "execution_count": 34,
     "metadata": {},
     "output_type": "execute_result"
    }
   ],
   "source": [
    "df4"
   ]
  },
  {
   "cell_type": "markdown",
   "id": "da5ad30a-93d4-4bb5-b533-ff69929a649e",
   "metadata": {},
   "source": [
    "# Deleting Attribute(Columns) from df3 dataframe"
   ]
  },
  {
   "cell_type": "code",
   "execution_count": 35,
   "id": "8731ea86-4565-4460-a271-9d9793e234e2",
   "metadata": {},
   "outputs": [],
   "source": [
    "df5=df3.drop(columns=[\"DM\"])"
   ]
  },
  {
   "cell_type": "code",
   "execution_count": 36,
   "id": "659aa0e1-9e7e-486c-ba22-007c3ae7a608",
   "metadata": {},
   "outputs": [
    {
     "data": {
      "text/html": [
       "<div>\n",
       "<style scoped>\n",
       "    .dataframe tbody tr th:only-of-type {\n",
       "        vertical-align: middle;\n",
       "    }\n",
       "\n",
       "    .dataframe tbody tr th {\n",
       "        vertical-align: top;\n",
       "    }\n",
       "\n",
       "    .dataframe thead th {\n",
       "        text-align: right;\n",
       "    }\n",
       "</style>\n",
       "<table border=\"1\" class=\"dataframe\">\n",
       "  <thead>\n",
       "    <tr style=\"text-align: right;\">\n",
       "      <th></th>\n",
       "      <th>CD</th>\n",
       "      <th>DBMS</th>\n",
       "      <th>DSS</th>\n",
       "      <th>CAO</th>\n",
       "    </tr>\n",
       "  </thead>\n",
       "  <tbody>\n",
       "    <tr>\n",
       "      <th>0</th>\n",
       "      <td>10</td>\n",
       "      <td>12</td>\n",
       "      <td>45</td>\n",
       "      <td>60</td>\n",
       "    </tr>\n",
       "    <tr>\n",
       "      <th>1</th>\n",
       "      <td>54</td>\n",
       "      <td>70</td>\n",
       "      <td>26</td>\n",
       "      <td>90</td>\n",
       "    </tr>\n",
       "    <tr>\n",
       "      <th>2</th>\n",
       "      <td>78</td>\n",
       "      <td>89</td>\n",
       "      <td>45</td>\n",
       "      <td>24</td>\n",
       "    </tr>\n",
       "    <tr>\n",
       "      <th>3</th>\n",
       "      <td>10</td>\n",
       "      <td>12</td>\n",
       "      <td>45</td>\n",
       "      <td>60</td>\n",
       "    </tr>\n",
       "  </tbody>\n",
       "</table>\n",
       "</div>"
      ],
      "text/plain": [
       "   CD  DBMS  DSS  CAO\n",
       "0  10    12   45   60\n",
       "1  54    70   26   90\n",
       "2  78    89   45   24\n",
       "3  10    12   45   60"
      ]
     },
     "execution_count": 36,
     "metadata": {},
     "output_type": "execute_result"
    }
   ],
   "source": [
    "df5"
   ]
  },
  {
   "cell_type": "code",
   "execution_count": 37,
   "id": "45a411ad-89a1-41bd-b864-c30bd52ea838",
   "metadata": {},
   "outputs": [
    {
     "name": "stdout",
     "output_type": "stream",
     "text": [
      "Mean of DSS: 40.25\n"
     ]
    }
   ],
   "source": [
    "print(\"Mean of DSS:\",df5[\"DSS\"].mean())"
   ]
  },
  {
   "cell_type": "code",
   "execution_count": 38,
   "id": "22b8c410-9d0a-4906-9d01-965eadb2cd00",
   "metadata": {},
   "outputs": [
    {
     "name": "stdout",
     "output_type": "stream",
     "text": [
      "Median of DSS: 45.0\n"
     ]
    }
   ],
   "source": [
    "print(\"Median of DSS:\",df5[\"DSS\"].median())"
   ]
  },
  {
   "cell_type": "code",
   "execution_count": 39,
   "id": "9acac2d2-2467-4c6e-886f-aad62808b21a",
   "metadata": {},
   "outputs": [
    {
     "name": "stdout",
     "output_type": "stream",
     "text": [
      "Mode of DSS: 0    45\n",
      "Name: DSS, dtype: int64\n"
     ]
    }
   ],
   "source": [
    "print(\"Mode of DSS:\",df5[\"DSS\"].mode())"
   ]
  },
  {
   "cell_type": "markdown",
   "id": "45478ce1-cd8c-4a3b-ac77-b384e458d482",
   "metadata": {},
   "source": [
    "# Conclusion :\n",
    "               In this experiment, I have explored the basics of DataFrames by creating Series and DataFrames, adding records and attributes, and performing deletion operations. This helped in understanding the structure and dynamic manipulation capabilities of pandas DataFrames."
   ]
  },
  {
   "cell_type": "code",
   "execution_count": null,
   "id": "64265362-ca98-4bd7-8fa1-06c5be484bb5",
   "metadata": {},
   "outputs": [],
   "source": []
  }
 ],
 "metadata": {
  "kernelspec": {
   "display_name": "Python 3 (ipykernel)",
   "language": "python",
   "name": "python3"
  },
  "language_info": {
   "codemirror_mode": {
    "name": "ipython",
    "version": 3
   },
   "file_extension": ".py",
   "mimetype": "text/x-python",
   "name": "python",
   "nbconvert_exporter": "python",
   "pygments_lexer": "ipython3",
   "version": "3.13.5"
  }
 },
 "nbformat": 4,
 "nbformat_minor": 5
}
