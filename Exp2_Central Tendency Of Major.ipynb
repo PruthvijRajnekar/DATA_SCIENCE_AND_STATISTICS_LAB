{
 "cells": [
  {
   "cell_type": "markdown",
   "id": "d34e66ab-7d8e-4db3-b92b-68a308b3b99e",
   "metadata": {},
   "source": [
    "# Central Tendancy Of Measures (Mean, Median, Mode)"
   ]
  },
  {
   "cell_type": "code",
   "execution_count": 1,
   "id": "655e2ab4-0058-4582-b92e-8c7855179d44",
   "metadata": {},
   "outputs": [],
   "source": [
    "#Exp no.:2"
   ]
  },
  {
   "cell_type": "code",
   "execution_count": 2,
   "id": "e60eff41-ecf2-41cc-b523-24f762674f13",
   "metadata": {},
   "outputs": [],
   "source": [
    "#Aim : To find Central Tendancy of measures (Mean, Median, Mode)"
   ]
  },
  {
   "cell_type": "code",
   "execution_count": 3,
   "id": "4d75c2f4-64a9-48fd-a668-d0f8f353b395",
   "metadata": {},
   "outputs": [],
   "source": [
    "#Name:Pruthvij .P. Rajnekar\n",
    "#Roll no.:49\n",
    "#Section:3B\n",
    "#Subject:DSS\n",
    "#Date:31/07/2025"
   ]
  },
  {
   "cell_type": "code",
   "execution_count": 4,
   "id": "a2bc3d0c-e633-49cd-9c80-4cc8e4d297d9",
   "metadata": {},
   "outputs": [],
   "source": [
    "age=[22,21,20,20,21,21,22,22,22,21,22]"
   ]
  },
  {
   "cell_type": "code",
   "execution_count": 5,
   "id": "485813e9-44b4-4cfd-a69a-70db8a19fb89",
   "metadata": {},
   "outputs": [
    {
     "data": {
      "text/plain": [
       "[22, 21, 20, 20, 21, 21, 22, 22, 22, 21, 22]"
      ]
     },
     "execution_count": 5,
     "metadata": {},
     "output_type": "execute_result"
    }
   ],
   "source": [
    "age"
   ]
  },
  {
   "cell_type": "code",
   "execution_count": 6,
   "id": "1a7a5637-7e26-4ac6-a107-debbd5177ac4",
   "metadata": {},
   "outputs": [],
   "source": [
    "import statistics"
   ]
  },
  {
   "cell_type": "code",
   "execution_count": 7,
   "id": "920c3ad1-16b3-41bd-b1c3-0f66bf7a0897",
   "metadata": {},
   "outputs": [],
   "source": [
    "a=statistics.mean(age)"
   ]
  },
  {
   "cell_type": "code",
   "execution_count": 8,
   "id": "9dfa24f8-7a36-45a7-b589-df3463454fc9",
   "metadata": {},
   "outputs": [
    {
     "data": {
      "text/plain": [
       "21.272727272727273"
      ]
     },
     "execution_count": 8,
     "metadata": {},
     "output_type": "execute_result"
    }
   ],
   "source": [
    "a"
   ]
  },
  {
   "cell_type": "code",
   "execution_count": 9,
   "id": "eddfed7c-399c-4806-8c6c-45d679614809",
   "metadata": {},
   "outputs": [],
   "source": [
    "b=statistics.mode(age)"
   ]
  },
  {
   "cell_type": "code",
   "execution_count": 10,
   "id": "d2b5b6ca-f9cd-439e-88f9-dc86ffdd4c61",
   "metadata": {},
   "outputs": [
    {
     "data": {
      "text/plain": [
       "22"
      ]
     },
     "execution_count": 10,
     "metadata": {},
     "output_type": "execute_result"
    }
   ],
   "source": [
    "b"
   ]
  },
  {
   "cell_type": "code",
   "execution_count": 11,
   "id": "2a77ddc2-c7b8-4f58-89d3-e59c3bf47ab6",
   "metadata": {},
   "outputs": [],
   "source": [
    "c=statistics.median(age)"
   ]
  },
  {
   "cell_type": "code",
   "execution_count": 12,
   "id": "1f3124d3-22f9-4152-8334-04f59510cea8",
   "metadata": {},
   "outputs": [
    {
     "data": {
      "text/plain": [
       "21"
      ]
     },
     "execution_count": 12,
     "metadata": {},
     "output_type": "execute_result"
    }
   ],
   "source": [
    "c"
   ]
  },
  {
   "cell_type": "code",
   "execution_count": 13,
   "id": "fb08fb48-75ae-4734-9c47-427632c03f34",
   "metadata": {},
   "outputs": [],
   "source": [
    "import numpy as np\n",
    "import pandas as pd"
   ]
  },
  {
   "cell_type": "code",
   "execution_count": 14,
   "id": "f9974c9f-8859-4b14-bca8-e3b62c2ec5c3",
   "metadata": {},
   "outputs": [],
   "source": [
    "x=np.array([1,6,7,2,8,5,4,1,8,5,7,5])"
   ]
  },
  {
   "cell_type": "code",
   "execution_count": 15,
   "id": "37c5993f-dd7a-4919-9b34-8d5948a4f01f",
   "metadata": {},
   "outputs": [
    {
     "data": {
      "text/plain": [
       "array([1, 6, 7, 2, 8, 5, 4, 1, 8, 5, 7, 5])"
      ]
     },
     "execution_count": 15,
     "metadata": {},
     "output_type": "execute_result"
    }
   ],
   "source": [
    "x"
   ]
  },
  {
   "cell_type": "code",
   "execution_count": 16,
   "id": "9d3dffeb-e04b-4f08-813b-483bdcea0223",
   "metadata": {},
   "outputs": [
    {
     "name": "stdout",
     "output_type": "stream",
     "text": [
      "4.916666666666667\n"
     ]
    }
   ],
   "source": [
    " print(np.mean(x))"
   ]
  },
  {
   "cell_type": "code",
   "execution_count": 17,
   "id": "9850a849-5d97-4cc2-b74b-0943d9f4b405",
   "metadata": {},
   "outputs": [
    {
     "name": "stdout",
     "output_type": "stream",
     "text": [
      "5.0\n"
     ]
    }
   ],
   "source": [
    " print(np.median(x))"
   ]
  },
  {
   "cell_type": "code",
   "execution_count": 18,
   "id": "aaa2238a-6f97-4c4e-9047-1b02387438d4",
   "metadata": {},
   "outputs": [],
   "source": [
    "from scipy import stats"
   ]
  },
  {
   "cell_type": "code",
   "execution_count": 19,
   "id": "c5546a20-797d-4340-a762-ebaacd237133",
   "metadata": {},
   "outputs": [
    {
     "name": "stdout",
     "output_type": "stream",
     "text": [
      "ModeResult(mode=np.int64(5), count=np.int64(3))\n"
     ]
    }
   ],
   "source": [
    "print(stats.mode(x))"
   ]
  },
  {
   "cell_type": "code",
   "execution_count": 20,
   "id": "19c9c4b5-8964-4af0-8b02-35a975dc7702",
   "metadata": {},
   "outputs": [],
   "source": [
    "sd=stats.tstd(x)"
   ]
  },
  {
   "cell_type": "code",
   "execution_count": 21,
   "id": "c47ade07-a59c-4488-84cb-f2e9bdb55be0",
   "metadata": {},
   "outputs": [
    {
     "name": "stdout",
     "output_type": "stream",
     "text": [
      "Standard Deviation: 2.5030284687057622\n"
     ]
    }
   ],
   "source": [
    "print(\"Standard Deviation:\",sd)"
   ]
  },
  {
   "cell_type": "code",
   "execution_count": 22,
   "id": "893e4c4b-7b9a-4528-83be-390ee401e1c2",
   "metadata": {},
   "outputs": [],
   "source": [
    "std_var=stats.tvar(x)"
   ]
  },
  {
   "cell_type": "code",
   "execution_count": 23,
   "id": "1d23e946-9d39-46cf-b5be-ec30c049bde9",
   "metadata": {},
   "outputs": [
    {
     "name": "stdout",
     "output_type": "stream",
     "text": [
      "Standard Variance: 6.265151515151514\n"
     ]
    }
   ],
   "source": [
    "print(\"Standard Variance:\",std_var)"
   ]
  },
  {
   "cell_type": "markdown",
   "id": "d2d0916c-e43f-4c2d-871f-e2d61ea992af",
   "metadata": {},
   "source": [
    "# Conclusion :\n",
    "             In this experiment, I have successfully calculated the mean, median, and mode of a given data array using Python libraries such as NumPy,  SciPy, and statistics. The results demonstrate how different libraries offer efficient and reliable methods for computing central tendency measures."
   ]
  },
  {
   "cell_type": "code",
   "execution_count": null,
   "id": "5fc88a62-1d70-406a-8bfc-a6d56a28ad4f",
   "metadata": {},
   "outputs": [],
   "source": []
  }
 ],
 "metadata": {
  "kernelspec": {
   "display_name": "Python 3 (ipykernel)",
   "language": "python",
   "name": "python3"
  },
  "language_info": {
   "codemirror_mode": {
    "name": "ipython",
    "version": 3
   },
   "file_extension": ".py",
   "mimetype": "text/x-python",
   "name": "python",
   "nbconvert_exporter": "python",
   "pygments_lexer": "ipython3",
   "version": "3.13.5"
  }
 },
 "nbformat": 4,
 "nbformat_minor": 5
}
